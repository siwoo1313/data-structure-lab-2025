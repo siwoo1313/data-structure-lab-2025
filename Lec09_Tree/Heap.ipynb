{
  "nbformat": 4,
  "nbformat_minor": 0,
  "metadata": {
    "colab": {
      "provenance": []
    },
    "kernelspec": {
      "name": "python3",
      "display_name": "Python 3"
    },
    "language_info": {
      "name": "python"
    }
  },
  "cells": [
    {
      "cell_type": "code",
      "execution_count": 5,
      "metadata": {
        "id": "_MixvfOhRPP5"
      },
      "outputs": [],
      "source": [
        "class BinHeap:\n",
        "  def __init__(self):\n",
        "    self.heap_list = [0]\n",
        "    self.current_size = 0\n",
        "\n",
        "  def insert(self, k):\n",
        "    self.heap_list.append(k)\n",
        "    self.current_size = self.current_size + 1\n",
        "    self.perc_up(self.current_size)\n",
        "\n",
        "  def perc_up(self, i):\n",
        "    while i // 2 > 0:\n",
        "      if self.heap_list[i] < self.heap_list[i // 2]:\n",
        "        tmp = self.heap_list[i // 2]\n",
        "        self.heap_list[i // 2] = self.heap_list[i]\n",
        "        self.heap_list[i] = tmp\n",
        "      i = i // 2\n",
        "\n",
        "  def perc_down(self, i):\n",
        "    while (i * 2) <= self.current_size:\n",
        "      mc = self.min_child(i)\n",
        "      if self.heap_list[i] > self.heap_list[mc]:\n",
        "        tmp = self.heap_list[i]\n",
        "        self.heap_list[i] = self.heap_list[mc]\n",
        "        self.heap_list[mc] = tmp\n",
        "      else:\n",
        "        break  # Added break here\n",
        "\n",
        "      i = mc\n",
        "\n",
        "  def min_child(self, i):\n",
        "    if i * 2 + 1 > self.current_size:\n",
        "      return i * 2\n",
        "    else:\n",
        "      if self.heap_list[i * 2] < self.heap_list[i * 2 + 1]:\n",
        "        return i * 2\n",
        "      else:\n",
        "        return i * 2 + 1\n",
        "\n",
        "  def del_min(self):\n",
        "    if self.current_size == 0:\n",
        "      return None  # Handle case of empty heap\n",
        "    ret_val = self.heap_list[1]\n",
        "    self.heap_list[1] = self.heap_list[self.current_size]\n",
        "    self.current_size = self.current_size - 1\n",
        "    self.heap_list.pop()\n",
        "    self.perc_down(1) # Added perc_down call here\n",
        "    return ret_val\n",
        "\n",
        "  def build_heap(self, a_list):\n",
        "    i = len(a_list) // 2\n",
        "    self.current_size = len(a_list)\n",
        "    self.heap_list = [0] + a_list[:]\n",
        "    while (i > 0):\n",
        "      self.perc_down(i)\n",
        "      i = i - 1\n",
        "    # Removed the incorrect return statement here\n",
        "\n",
        "\n",
        "\n"
      ]
    },
    {
      "cell_type": "code",
      "source": [
        "def heapsort(iterable):\n",
        "  heap = Binheap()\n",
        "  for x in iterable:\n",
        "    heap.insert(x)\n",
        "  sorted_list = []\n",
        "  for _ in range(len(iterable)):\n",
        "    sorted_list.append(heap.del_min())\n",
        "  return sorted_list"
      ],
      "metadata": {
        "id": "FdWiHSVHT1wR"
      },
      "execution_count": 6,
      "outputs": []
    }
  ]
}