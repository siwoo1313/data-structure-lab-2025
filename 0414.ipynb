{
  "nbformat": 4,
  "nbformat_minor": 0,
  "metadata": {
    "colab": {
      "provenance": [],
      "authorship_tag": "ABX9TyOfuRYsqsq4364oo0xPgikI",
      "include_colab_link": true
    },
    "kernelspec": {
      "name": "python3",
      "display_name": "Python 3"
    },
    "language_info": {
      "name": "python"
    }
  },
  "cells": [
    {
      "cell_type": "markdown",
      "metadata": {
        "id": "view-in-github",
        "colab_type": "text"
      },
      "source": [
        "<a href=\"https://colab.research.google.com/github/siwoo1313/data-structure-lab-2025/blob/master/0414.ipynb\" target=\"_parent\"><img src=\"https://colab.research.google.com/assets/colab-badge.svg\" alt=\"Open In Colab\"/></a>"
      ]
    },
    {
      "cell_type": "markdown",
      "source": [
        "Lec 05:Baisc Data Structure:Stacks\n",
        "1. stack class"
      ],
      "metadata": {
        "id": "RUUp9tts1b5K"
      }
    },
    {
      "cell_type": "code",
      "source": [
        "class Stack:\n",
        "  def __init__(self):\n",
        "    self.items=[]\n",
        "\n",
        "def is_empty(self):\n",
        "  return self.items==[]\n",
        "\n",
        "def push(self,item):\n",
        "  self.items.append(item)\n",
        "\n",
        "def pop(self):\n",
        "  return self.items.pop()\n",
        "\n",
        "def peek(self):\n",
        "  return self.items[len(self.items)-1]\n",
        "\n",
        "def size(self):\n",
        "  return len(self.items)\n",
        "\n",
        "def pop_all(self):\n",
        "  self.items.clear()\n",
        "\n",
        "def par_checker(symbol_string):\n",
        "  s=Stack()\n",
        "  balanced=True\n",
        "  index=0\n",
        "\n",
        "  while index<len(symbol_string) and balanced:\n",
        "    symbol=symbol_string[index]\n",
        "    if symbol==\"(\":\n",
        "      s.push(symbol)\n",
        "    else:\n",
        "      if s.is_empty():\n",
        "        balanced=False\n",
        "      else:\n",
        "        s.pop()\n",
        "    index=index+1\n",
        "  if balanced and s.is_empty():\n",
        "    return True\n",
        "  else:\n",
        "    return False"
      ],
      "metadata": {
        "id": "wZVh6CQ81aes"
      },
      "execution_count": 6,
      "outputs": []
    }
  ]
}